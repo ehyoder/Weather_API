{
 "cells": [
  {
   "cell_type": "code",
   "execution_count": 11,
   "metadata": {
    "collapsed": true
   },
   "outputs": [],
   "source": [
    "# Dependencies and config file\n",
    "import csv\n",
    "import matplotlib.pyplot as plt\n",
    "import requests\n",
    "import pandas as pd\n",
    "from config import api_key\n",
    "import openweathermapy as owm\n",
    "from citipy import citipy\n",
    "from random import randint\n",
    "import numpy as np"
   ]
  },
  {
   "cell_type": "code",
   "execution_count": 49,
   "metadata": {},
   "outputs": [
    {
     "data": {
      "text/plain": [
       "'tainan'"
      ]
     },
     "execution_count": 49,
     "metadata": {},
     "output_type": "execute_result"
    }
   ],
   "source": [
    "city = citipy.nearest_city(22.99, 120.21)\n",
    "#print(city)\n",
    "city.city_name\n",
    "#city.country_code"
   ]
  },
  {
   "cell_type": "code",
   "execution_count": 42,
   "metadata": {},
   "outputs": [],
   "source": [
    "latitude_list = []\n",
    "for x in range(500):\n",
    "    # Randomly select 500 unique latitudes\n",
    "    latitude_list.append(numpy.random.uniform(low=-180.0, high=180, size=None))\n",
    "    #print(latitude_list)\n",
    "    # this works but it is a very long list \n",
    "latitude_list_series = pd.Series(latitude_list)\n",
    "#Then add the values to the DataFrame:\n",
    "\n",
    "#city_df['new_col'] = latitude_list_series.values"
   ]
  },
  {
   "cell_type": "code",
   "execution_count": 43,
   "metadata": {},
   "outputs": [],
   "source": [
    "longitude_list = []\n",
    "for x in range(500):\n",
    "    # Randomly select 500 unique longitudes\n",
    "    longitude_list.append(numpy.random.uniform(low=-90, high = 90))\n",
    "    #print(longitude)\n",
    "\n",
    "# Convert list to series\n",
    "longitude_list_series = pd.Series(longitude_list)"
   ]
  },
  {
   "cell_type": "code",
   "execution_count": 50,
   "metadata": {},
   "outputs": [
    {
     "data": {
      "text/html": [
       "<div>\n",
       "<style>\n",
       "    .dataframe thead tr:only-child th {\n",
       "        text-align: right;\n",
       "    }\n",
       "\n",
       "    .dataframe thead th {\n",
       "        text-align: left;\n",
       "    }\n",
       "\n",
       "    .dataframe tbody tr th {\n",
       "        vertical-align: top;\n",
       "    }\n",
       "</style>\n",
       "<table border=\"1\" class=\"dataframe\">\n",
       "  <thead>\n",
       "    <tr style=\"text-align: right;\">\n",
       "      <th></th>\n",
       "      <th>0</th>\n",
       "      <th>1</th>\n",
       "    </tr>\n",
       "  </thead>\n",
       "  <tbody>\n",
       "    <tr>\n",
       "      <th>0</th>\n",
       "      <td>154.843382</td>\n",
       "      <td>-59.159888</td>\n",
       "    </tr>\n",
       "    <tr>\n",
       "      <th>1</th>\n",
       "      <td>-96.629807</td>\n",
       "      <td>12.393261</td>\n",
       "    </tr>\n",
       "    <tr>\n",
       "      <th>2</th>\n",
       "      <td>64.712780</td>\n",
       "      <td>4.664163</td>\n",
       "    </tr>\n",
       "    <tr>\n",
       "      <th>3</th>\n",
       "      <td>-169.752406</td>\n",
       "      <td>46.244465</td>\n",
       "    </tr>\n",
       "    <tr>\n",
       "      <th>4</th>\n",
       "      <td>-21.747498</td>\n",
       "      <td>31.766596</td>\n",
       "    </tr>\n",
       "    <tr>\n",
       "      <th>5</th>\n",
       "      <td>-34.333861</td>\n",
       "      <td>-19.292775</td>\n",
       "    </tr>\n",
       "    <tr>\n",
       "      <th>6</th>\n",
       "      <td>116.545072</td>\n",
       "      <td>-15.359043</td>\n",
       "    </tr>\n",
       "    <tr>\n",
       "      <th>7</th>\n",
       "      <td>150.214511</td>\n",
       "      <td>61.631034</td>\n",
       "    </tr>\n",
       "    <tr>\n",
       "      <th>8</th>\n",
       "      <td>-86.443870</td>\n",
       "      <td>7.173107</td>\n",
       "    </tr>\n",
       "    <tr>\n",
       "      <th>9</th>\n",
       "      <td>112.837336</td>\n",
       "      <td>38.275250</td>\n",
       "    </tr>\n",
       "  </tbody>\n",
       "</table>\n",
       "</div>"
      ],
      "text/plain": [
       "            0          1\n",
       "0  154.843382 -59.159888\n",
       "1  -96.629807  12.393261\n",
       "2   64.712780   4.664163\n",
       "3 -169.752406  46.244465\n",
       "4  -21.747498  31.766596\n",
       "5  -34.333861 -19.292775\n",
       "6  116.545072 -15.359043\n",
       "7  150.214511  61.631034\n",
       "8  -86.443870   7.173107\n",
       "9  112.837336  38.275250"
      ]
     },
     "execution_count": 50,
     "metadata": {},
     "output_type": "execute_result"
    }
   ],
   "source": [
    "lat_and_long = pd.concat([latitude_list_series, longitude_list_series], axis=1)\n",
    "lat_and_long.head(10)"
   ]
  },
  {
   "cell_type": "code",
   "execution_count": null,
   "metadata": {
    "collapsed": true
   },
   "outputs": [],
   "source": [
    "# possibly use the zip function to create one value and then use the city instance?"
   ]
  },
  {
   "cell_type": "code",
   "execution_count": 46,
   "metadata": {
    "collapsed": true
   },
   "outputs": [],
   "source": [
    "#for i, j in lat_and_long:\n",
    "    \n",
    "for index, row in lat_and_long.iterrows():\n",
    "    city = citipy.city_name(x, y)\n",
    "    \n",
    "#city\n",
    "#citipy.City instance at 0x1069b6518>\n",
    "#city.city_name     # Tainan, my home town\n",
    "#'tainan'\n",
    "#city.country_code\n",
    "#'tw'                  # And the country is surely Taiwan"
   ]
  },
  {
   "cell_type": "code",
   "execution_count": 23,
   "metadata": {},
   "outputs": [
    {
     "data": {
      "text/html": [
       "<div>\n",
       "<style>\n",
       "    .dataframe thead tr:only-child th {\n",
       "        text-align: right;\n",
       "    }\n",
       "\n",
       "    .dataframe thead th {\n",
       "        text-align: left;\n",
       "    }\n",
       "\n",
       "    .dataframe tbody tr th {\n",
       "        vertical-align: top;\n",
       "    }\n",
       "</style>\n",
       "<table border=\"1\" class=\"dataframe\">\n",
       "  <thead>\n",
       "    <tr style=\"text-align: right;\">\n",
       "      <th></th>\n",
       "      <th>city</th>\n",
       "      <th>latitude</th>\n",
       "      <th>longitude</th>\n",
       "    </tr>\n",
       "  </thead>\n",
       "  <tbody>\n",
       "    <tr>\n",
       "      <th>0</th>\n",
       "      <td></td>\n",
       "      <td></td>\n",
       "      <td></td>\n",
       "    </tr>\n",
       "    <tr>\n",
       "      <th>1</th>\n",
       "      <td></td>\n",
       "      <td></td>\n",
       "      <td></td>\n",
       "    </tr>\n",
       "    <tr>\n",
       "      <th>2</th>\n",
       "      <td></td>\n",
       "      <td></td>\n",
       "      <td></td>\n",
       "    </tr>\n",
       "    <tr>\n",
       "      <th>3</th>\n",
       "      <td></td>\n",
       "      <td></td>\n",
       "      <td></td>\n",
       "    </tr>\n",
       "    <tr>\n",
       "      <th>4</th>\n",
       "      <td></td>\n",
       "      <td></td>\n",
       "      <td></td>\n",
       "    </tr>\n",
       "    <tr>\n",
       "      <th>5</th>\n",
       "      <td></td>\n",
       "      <td></td>\n",
       "      <td></td>\n",
       "    </tr>\n",
       "    <tr>\n",
       "      <th>6</th>\n",
       "      <td></td>\n",
       "      <td></td>\n",
       "      <td></td>\n",
       "    </tr>\n",
       "    <tr>\n",
       "      <th>500</th>\n",
       "      <td></td>\n",
       "      <td></td>\n",
       "      <td></td>\n",
       "    </tr>\n",
       "  </tbody>\n",
       "</table>\n",
       "</div>"
      ],
      "text/plain": [
       "    city latitude longitude\n",
       "0                          \n",
       "1                          \n",
       "2                          \n",
       "3                          \n",
       "4                          \n",
       "5                          \n",
       "6                          \n",
       "500                        "
      ]
     },
     "execution_count": 23,
     "metadata": {},
     "output_type": "execute_result"
    }
   ],
   "source": [
    "# empty dataframe is this needed?\n",
    "d = {'city': [\"\"], 'latitude': [\"\"], 'longitude': [\"\"]}\n",
    "city_df = pd.DataFrame(data=d, index=[0,1,2,3,4,5,6,500])\n",
    "city_df.head(25)\n",
    "#city_data = pd.DataFrame(data=None, index=None, columns=None, dtype=None, copy=False)"
   ]
  },
  {
   "cell_type": "code",
   "execution_count": 9,
   "metadata": {
    "collapsed": true
   },
   "outputs": [],
   "source": [
    "# Create settings dictionary \n",
    "#settings = {\"units\": \"imperial\", \"APPID\": api_key}"
   ]
  },
  {
   "cell_type": "code",
   "execution_count": null,
   "metadata": {
    "collapsed": true
   },
   "outputs": [],
   "source": [
    "# Randomly select **at least** 500 unique (non-repeat) cities based on latitude and longitude.\n",
    "# Perform a weather check on each of the cities using a series of successive API calls. \n",
    "# Include a print log of each city as it's being processed with the city number, city name, and requested URL.\n",
    "# Save both a CSV of all data retrieved and png images for each scatter plot."
   ]
  },
  {
   "cell_type": "code",
   "execution_count": null,
   "metadata": {
    "collapsed": true
   },
   "outputs": [],
   "source": [
    "#Your objective is to build a series of scatter plots to showcase the following relationships:\n",
    "\n",
    "#* Temperature (F) vs. Latitude\n",
    "#* Humidity (%) vs. Latitude\n",
    "#* Cloudiness (%) vs. Latitude\n",
    "#* Wind Speed (mph) vs. Latitude"
   ]
  },
  {
   "cell_type": "code",
   "execution_count": null,
   "metadata": {
    "collapsed": true
   },
   "outputs": [],
   "source": [
    "# Build a scatter plot for each data type\n",
    "# Example from other activity\n",
    "#plt.scatter(census_data_complete[\"Bank Count\"].astype(int),\n",
    "            #census_data_complete[\"Unemployment Rate\"],\n",
    "            #edgecolor=\"black\", linewidths=1, marker=\"o\",\n",
    "            #alpha=0.8, label=\"Zip Codes\")\n",
    "\n",
    "# Label the graph and set axis limits\n",
    "#plt.title(\"Unemployment Rate vs. Bank Count by Zip Code\")\n",
    "#plt.ylabel(\"Unemployment Rate (%)\")\n",
    "#plt.xlabel(\"Bank Count\")\n",
    "#plt.grid(True)\n",
    "#plt.xlim([-2.5, 202])\n",
    "#plt.ylim([-2.5, 40])\n",
    "\n",
    "# Save the figure\n",
    "#plt.savefig(\"UnemploymentRate_BankCount.png\")\n",
    "\n",
    "# Show plot\n",
    "#plt.show()"
   ]
  },
  {
   "cell_type": "code",
   "execution_count": null,
   "metadata": {
    "collapsed": true
   },
   "outputs": [],
   "source": []
  },
  {
   "cell_type": "code",
   "execution_count": null,
   "metadata": {
    "collapsed": true
   },
   "outputs": [],
   "source": []
  }
 ],
 "metadata": {
  "kernelspec": {
   "display_name": "Python 3",
   "language": "python",
   "name": "python3"
  },
  "language_info": {
   "codemirror_mode": {
    "name": "ipython",
    "version": 3
   },
   "file_extension": ".py",
   "mimetype": "text/x-python",
   "name": "python",
   "nbconvert_exporter": "python",
   "pygments_lexer": "ipython3",
   "version": "3.6.3"
  }
 },
 "nbformat": 4,
 "nbformat_minor": 2
}
