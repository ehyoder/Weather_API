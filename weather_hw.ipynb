{
 "cells": [
  {
   "cell_type": "code",
   "execution_count": 4,
   "metadata": {},
   "outputs": [],
   "source": [
    "# Dependencies\n",
    "import csv\n",
    "import matplotlib.pyplot as plt\n",
    "import requests\n",
    "import pandas as pd\n",
    "from config import api_key\n",
    "#make config file\n",
    "import openweathermapy as owm\n",
    "import citipy as cp"
   ]
  },
  {
   "cell_type": "code",
   "execution_count": 5,
   "metadata": {
    "collapsed": true
   },
   "outputs": [],
   "source": [
    "# Create settings dictionary \n",
    "setting = {}"
   ]
  },
  {
   "cell_type": "code",
   "execution_count": 6,
   "metadata": {},
   "outputs": [
    {
     "ename": "NameError",
     "evalue": "name 'settings' is not defined",
     "output_type": "error",
     "traceback": [
      "\u001b[1;31m---------------------------------------------------------------------------\u001b[0m",
      "\u001b[1;31mNameError\u001b[0m                                 Traceback (most recent call last)",
      "\u001b[1;32m<ipython-input-6-45a750003342>\u001b[0m in \u001b[0;36m<module>\u001b[1;34m()\u001b[0m\n\u001b[0;32m      1\u001b[0m \u001b[1;31m# make the API call using owm's get\u001b[0m\u001b[1;33m\u001b[0m\u001b[1;33m\u001b[0m\u001b[0m\n\u001b[1;32m----> 2\u001b[1;33m \u001b[0mforecast\u001b[0m \u001b[1;33m=\u001b[0m \u001b[0mowm\u001b[0m\u001b[1;33m.\u001b[0m\u001b[0mget_forecast_hourly\u001b[0m\u001b[1;33m(\u001b[0m\u001b[1;34m\"Phoenix, US\"\u001b[0m\u001b[1;33m,\u001b[0m \u001b[1;33m**\u001b[0m\u001b[0msettings\u001b[0m\u001b[1;33m)\u001b[0m\u001b[1;33m\u001b[0m\u001b[0m\n\u001b[0m\u001b[0;32m      3\u001b[0m \u001b[1;33m\u001b[0m\u001b[0m\n\u001b[0;32m      4\u001b[0m \u001b[1;31m# extract the date in text format and the temperature from each record\u001b[0m\u001b[1;33m\u001b[0m\u001b[1;33m\u001b[0m\u001b[0m\n\u001b[0;32m      5\u001b[0m \u001b[1;31m# and save them in a list\u001b[0m\u001b[1;33m\u001b[0m\u001b[1;33m\u001b[0m\u001b[0m\n",
      "\u001b[1;31mNameError\u001b[0m: name 'settings' is not defined"
     ]
    }
   ],
   "source": [
    "# make the API call using owm's get\n",
    "forecast = owm.get_forecast_hourly(\"Phoenix, US\", **settings)\n",
    "\n",
    "# extract the date in text format and the temperature from each record\n",
    "# and save them in a list\n",
    "summary = [\"dt_txt\", \"main.temp\"]\n",
    "data = [hourly_forecast(*summary) for hourly_forecast in forecast]\n",
    "\n",
    "# format the printing of each record\n",
    "for hourly_forecast in data:\n",
    "    print(f\"{hourly_forecast[0]} | {hourly_forecast[1]} F\")"
   ]
  },
  {
   "cell_type": "code",
   "execution_count": null,
   "metadata": {
    "collapsed": true
   },
   "outputs": [],
   "source": [
    "# Randomly select **at least** 500 unique (non-repeat) cities based on latitude and longitude.\n",
    "# Perform a weather check on each of the cities using a series of successive API calls. \n",
    "# Include a print log of each city as it's being processed with the city number, city name, and requested URL.\n",
    "# Save both a CSV of all data retrieved and png images for each scatter plot."
   ]
  },
  {
   "cell_type": "code",
   "execution_count": null,
   "metadata": {
    "collapsed": true
   },
   "outputs": [],
   "source": [
    "#Your objective is to build a series of scatter plots to showcase the following relationships:\n",
    "\n",
    "#* Temperature (F) vs. Latitude\n",
    "#* Humidity (%) vs. Latitude\n",
    "#* Cloudiness (%) vs. Latitude\n",
    "#* Wind Speed (mph) vs. Latitude"
   ]
  },
  {
   "cell_type": "code",
   "execution_count": null,
   "metadata": {
    "collapsed": true
   },
   "outputs": [],
   "source": [
    "# Build a scatter plot for each data type\n",
    "#plt.scatter(census_data_complete[\"Bank Count\"].astype(int),\n",
    "            #census_data_complete[\"Unemployment Rate\"],\n",
    "            #edgecolor=\"black\", linewidths=1, marker=\"o\",\n",
    "            #alpha=0.8, label=\"Zip Codes\")\n",
    "\n",
    "# Incorporate the other graph properties\n",
    "#plt.title(\"Unemployment Rate vs. Bank Count by Zip Code\")\n",
    "#plt.ylabel(\"Unemployment Rate (%)\")\n",
    "#plt.xlabel(\"Bank Count\")\n",
    "#plt.grid(True)\n",
    "#plt.xlim([-2.5, 202])\n",
    "#plt.ylim([-2.5, 40])\n",
    "\n",
    "# Save the figure\n",
    "#plt.savefig(\"UnemploymentRate_BankCount.png\")\n",
    "\n",
    "# Show plot\n",
    "#plt.show()"
   ]
  },
  {
   "cell_type": "code",
   "execution_count": null,
   "metadata": {
    "collapsed": true
   },
   "outputs": [],
   "source": []
  },
  {
   "cell_type": "code",
   "execution_count": null,
   "metadata": {
    "collapsed": true
   },
   "outputs": [],
   "source": []
  }
 ],
 "metadata": {
  "kernelspec": {
   "display_name": "Python 3",
   "language": "python",
   "name": "python3"
  },
  "language_info": {
   "codemirror_mode": {
    "name": "ipython",
    "version": 3
   },
   "file_extension": ".py",
   "mimetype": "text/x-python",
   "name": "python",
   "nbconvert_exporter": "python",
   "pygments_lexer": "ipython3",
   "version": "3.6.3"
  }
 },
 "nbformat": 4,
 "nbformat_minor": 2
}
