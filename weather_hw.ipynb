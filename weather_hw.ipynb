{
 "cells": [
  {
   "cell_type": "code",
   "execution_count": 1,
   "metadata": {
    "collapsed": true
   },
   "outputs": [],
   "source": [
    "# Dependencies and config file\n",
    "import csv\n",
    "import matplotlib.pyplot as plt\n",
    "import requests\n",
    "import pandas as pd\n",
    "from config import api_key\n",
    "import openweathermapy as owm\n",
    "from citipy import citipy\n",
    "from random import randint\n",
    "import numpy as np"
   ]
  },
  {
   "cell_type": "code",
   "execution_count": 2,
   "metadata": {},
   "outputs": [],
   "source": [
    "latitude_list = []\n",
    "for x in range(500):\n",
    "    # Randomly select 500 unique latitudes\n",
    "    latitude_list.append(np.random.uniform(low=-180.0, high=180, size=None))\n",
    "    #print(latitude_list)\n",
    "    # this works but it is a very long list \n",
    "latitude_list_series = pd.Series(latitude_list)\n",
    "# Then add the values to the DataFrame:\n",
    "#city_df['new_col'] = latitude_list_series.values"
   ]
  },
  {
   "cell_type": "code",
   "execution_count": 3,
   "metadata": {
    "collapsed": true
   },
   "outputs": [],
   "source": [
    "longitude_list = []\n",
    "for x in range(500):\n",
    "    # Randomly select 500 unique longitudes\n",
    "    longitude_list.append(np.random.uniform(low=-90, high = 90))\n",
    "    #print(longitude)\n",
    "\n",
    "# Convert list to series\n",
    "longitude_list_series = pd.Series(longitude_list)"
   ]
  },
  {
   "cell_type": "code",
   "execution_count": 4,
   "metadata": {},
   "outputs": [
    {
     "data": {
      "text/html": [
       "<div>\n",
       "<style>\n",
       "    .dataframe thead tr:only-child th {\n",
       "        text-align: right;\n",
       "    }\n",
       "\n",
       "    .dataframe thead th {\n",
       "        text-align: left;\n",
       "    }\n",
       "\n",
       "    .dataframe tbody tr th {\n",
       "        vertical-align: top;\n",
       "    }\n",
       "</style>\n",
       "<table border=\"1\" class=\"dataframe\">\n",
       "  <thead>\n",
       "    <tr style=\"text-align: right;\">\n",
       "      <th></th>\n",
       "      <th>1</th>\n",
       "    </tr>\n",
       "    <tr>\n",
       "      <th>0</th>\n",
       "      <th></th>\n",
       "    </tr>\n",
       "  </thead>\n",
       "  <tbody>\n",
       "    <tr>\n",
       "      <th>104.994678</th>\n",
       "      <td>55.374827</td>\n",
       "    </tr>\n",
       "    <tr>\n",
       "      <th>-0.306723</th>\n",
       "      <td>70.637832</td>\n",
       "    </tr>\n",
       "    <tr>\n",
       "      <th>-70.746967</th>\n",
       "      <td>-24.192696</td>\n",
       "    </tr>\n",
       "    <tr>\n",
       "      <th>-162.879359</th>\n",
       "      <td>-11.396945</td>\n",
       "    </tr>\n",
       "    <tr>\n",
       "      <th>161.154598</th>\n",
       "      <td>-42.749834</td>\n",
       "    </tr>\n",
       "    <tr>\n",
       "      <th>-35.543110</th>\n",
       "      <td>37.204296</td>\n",
       "    </tr>\n",
       "    <tr>\n",
       "      <th>151.197349</th>\n",
       "      <td>-62.834723</td>\n",
       "    </tr>\n",
       "    <tr>\n",
       "      <th>-145.462876</th>\n",
       "      <td>62.533167</td>\n",
       "    </tr>\n",
       "    <tr>\n",
       "      <th>-60.487723</th>\n",
       "      <td>54.972196</td>\n",
       "    </tr>\n",
       "    <tr>\n",
       "      <th>-53.566147</th>\n",
       "      <td>-82.614120</td>\n",
       "    </tr>\n",
       "  </tbody>\n",
       "</table>\n",
       "</div>"
      ],
      "text/plain": [
       "                     1\n",
       "0                     \n",
       " 104.994678  55.374827\n",
       "-0.306723    70.637832\n",
       "-70.746967  -24.192696\n",
       "-162.879359 -11.396945\n",
       " 161.154598 -42.749834\n",
       "-35.543110   37.204296\n",
       " 151.197349 -62.834723\n",
       "-145.462876  62.533167\n",
       "-60.487723   54.972196\n",
       "-53.566147  -82.614120"
      ]
     },
     "execution_count": 4,
     "metadata": {},
     "output_type": "execute_result"
    }
   ],
   "source": [
    "lat_and_long = pd.concat([latitude_list_series, longitude_list_series], axis=1)\n",
    "#lat_and_long.head(10)\n",
    "lat_and_long = lat_and_long.set_index(0)\n",
    "lat_and_long.head(10)"
   ]
  },
  {
   "cell_type": "code",
   "execution_count": 5,
   "metadata": {},
   "outputs": [
    {
     "data": {
      "text/html": [
       "<div>\n",
       "<style>\n",
       "    .dataframe thead tr:only-child th {\n",
       "        text-align: right;\n",
       "    }\n",
       "\n",
       "    .dataframe thead th {\n",
       "        text-align: left;\n",
       "    }\n",
       "\n",
       "    .dataframe tbody tr th {\n",
       "        vertical-align: top;\n",
       "    }\n",
       "</style>\n",
       "<table border=\"1\" class=\"dataframe\">\n",
       "  <thead>\n",
       "    <tr style=\"text-align: right;\">\n",
       "      <th></th>\n",
       "      <th>Longitude</th>\n",
       "      <th>City</th>\n",
       "      <th>Temperature</th>\n",
       "      <th>Cloudiness</th>\n",
       "      <th>Windspeed</th>\n",
       "    </tr>\n",
       "    <tr>\n",
       "      <th>0</th>\n",
       "      <th></th>\n",
       "      <th></th>\n",
       "      <th></th>\n",
       "      <th></th>\n",
       "      <th></th>\n",
       "    </tr>\n",
       "  </thead>\n",
       "  <tbody>\n",
       "    <tr>\n",
       "      <th>104.994678</th>\n",
       "      <td>55.374827</td>\n",
       "      <td></td>\n",
       "      <td></td>\n",
       "      <td></td>\n",
       "      <td></td>\n",
       "    </tr>\n",
       "    <tr>\n",
       "      <th>-0.306723</th>\n",
       "      <td>70.637832</td>\n",
       "      <td></td>\n",
       "      <td></td>\n",
       "      <td></td>\n",
       "      <td></td>\n",
       "    </tr>\n",
       "    <tr>\n",
       "      <th>-70.746967</th>\n",
       "      <td>-24.192696</td>\n",
       "      <td></td>\n",
       "      <td></td>\n",
       "      <td></td>\n",
       "      <td></td>\n",
       "    </tr>\n",
       "    <tr>\n",
       "      <th>-162.879359</th>\n",
       "      <td>-11.396945</td>\n",
       "      <td></td>\n",
       "      <td></td>\n",
       "      <td></td>\n",
       "      <td></td>\n",
       "    </tr>\n",
       "    <tr>\n",
       "      <th>161.154598</th>\n",
       "      <td>-42.749834</td>\n",
       "      <td></td>\n",
       "      <td></td>\n",
       "      <td></td>\n",
       "      <td></td>\n",
       "    </tr>\n",
       "  </tbody>\n",
       "</table>\n",
       "</div>"
      ],
      "text/plain": [
       "             Longitude City Temperature Cloudiness Windspeed\n",
       "0                                                           \n",
       " 104.994678  55.374827                                      \n",
       "-0.306723    70.637832                                      \n",
       "-70.746967  -24.192696                                      \n",
       "-162.879359 -11.396945                                      \n",
       " 161.154598 -42.749834                                      "
      ]
     },
     "execution_count": 5,
     "metadata": {},
     "output_type": "execute_result"
    }
   ],
   "source": [
    "# Create new empty columns and add to existing dataframe \n",
    "lat_and_long[\"City\"] = (\"\")\n",
    "lat_and_long[\"Temperature\"] =(\"\")\n",
    "lat_and_long[\"Cloudiness\"] =(\"\")\n",
    "lat_and_long[\"Windspeed\"] =(\"\")\n",
    "lat_and_long.head(10)\n",
    "# Rename columns\n",
    "lat_and_long = lat_and_long.rename(columns={1:\"Longitude\"})\n",
    "lat_and_long.head()"
   ]
  },
  {
   "cell_type": "code",
   "execution_count": 9,
   "metadata": {},
   "outputs": [
    {
     "name": "stdout",
     "output_type": "stream",
     "text": [
      "['belushya guba', 'thinadhoo', 'mar del plata', 'ushuaia', 'qaanaaq', 'margate', 'qaanaaq', 'port alfred', 'taolanaro', 'punta arenas', 'rio gallegos', 'busselton', 'belushya guba', 'barentsburg', 'saldanha', 'tasiilaq', 'arraial do cabo', 'barentsburg', 'mahebourg', 'bhuvanagiri', 'novouzensk', 'saint-philippe', 'ushuaia', 'salinopolis', 'ushuaia', 'belushya guba', 'port-gentil', 'paamiut', 'dubai', 'longyearbyen', 'seydi', 'belushya guba', 'illoqqortoormiut', 'hamilton', 'lagoa', 'busselton', 'barentsburg', 'port elizabeth', 'cabedelo', 'hithadhoo', 'summerville', 'attawapiskat', 'dikson', 'ushuaia', 'arraial do cabo', 'cockburn town', 'illoqqortoormiut', 'ugoofaaru', 'cape town', 'belushya guba', 'ushuaia', 'barentsburg', 'oussouye', 'upernavik', 'busselton', 'hermanus', 'ushuaia', 'beja', 'hithadhoo', 'tsogni', 'belushya guba', 'clyde river', 'ushuaia', 'toguchin', 'qaanaaq', 'illoqqortoormiut', 'upernavik', 'ushuaia', 'illoqqortoormiut', 'bredasdorp', 'upernavik', 'hermanus', 'ushuaia', 'longyearbyen', 'illoqqortoormiut', 'ushuaia', 'albany', 'port alfred', 'illoqqortoormiut', 'port alfred', 'longyearbyen', 'ushuaia', 'bereda', 'mana', 'urdzhar', 'dikson', 'bredasdorp', 'illoqqortoormiut', 'longyearbyen', 'ushuaia', 'qaanaaq', 'port elizabeth', 'dikson', 'pachino', 'port alfred', 'ushuaia', 'ushuaia', 'barentsburg', 'hermanus', 'ushuaia', 'port alfred', 'albany', 'dikson', 'busselton', 'illoqqortoormiut', 'albany', 'nizwa', 'hermanus', 'ushuaia', 'ushuaia', 'illoqqortoormiut', 'mahebourg', 'georgetown', 'ushuaia', 'albany', 'narsaq', 'lebork', 'illoqqortoormiut', 'ushuaia', 'saint-augustin', 'bredasdorp', 'port said', 'kavaratti', 'barentsburg', 'amderma', 'dikson', 'chuy', 'bredasdorp', 'cape town', 'bredasdorp', 'richards bay', 'longyearbyen', 'barentsburg', 'illoqqortoormiut', 'longyearbyen', 'port alfred', 'ushuaia', 'barentsburg', 'ushuaia', 'port elizabeth', 'ilulissat', 'marfino', 'illoqqortoormiut', 'ushuaia', 'ushuaia', 'channel-port aux basques', 'qaqortoq', 'longyearbyen', 'dikson', 'ushuaia', 'ushuaia', 'dikson', 'port alfred', 'upernavik', 'ushuaia', 'bredasdorp', 'belushya guba', 'vallenar', 'dikson', 'ushuaia', 'dikson', 'east london', 'iqaluit', 'ushuaia', 'hermanus', 'qaanaaq', 'chateaudun', 'grand river south east', 'longyearbyen', 'georgetown', 'cape town', 'jamestown', 'longyearbyen', 'kupino', 'ushuaia', 'faya', 'jamestown', 'qaanaaq', 'longyearbyen', 'belushya guba', 'ushuaia', 'upernavik', 'laguna', 'ruwi', 'marcona', 'ushuaia', 'dikson', 'ushuaia', 'ushuaia', 'port elizabeth', 'ushuaia', 'bredasdorp', 'bredasdorp', 'namibe', 'darnah', 'cockburn town', 'chipinge', 'illoqqortoormiut', 'taolanaro', 'illoqqortoormiut', 'illoqqortoormiut', 'illoqqortoormiut', 'stephenville', 'hermanus', 'ushuaia', 'bredasdorp', 'albany', 'qaanaaq', 'severodvinsk', 'inverness', 'murud', 'sinnamary', 'posse', 'qaanaaq', 'antofagasta', 'bredasdorp', 'usinsk', 'illoqqortoormiut', 'jamestown', 'bredasdorp', 'hithadhoo', 'bredasdorp', 'barentsburg', 'iqaluit', 'ushuaia', 'dikson', 'qaanaaq', 'barra', 'chuy', 'cape town', 'barentsburg', 'illoqqortoormiut', 'dikson', 'illoqqortoormiut', 'longyearbyen', 'acarau', 'qaanaaq', 'eyl', 'ushuaia', 'illoqqortoormiut', 'phuthaditjhaba', 'takoradi', 'longyearbyen', 'jamestown', 'port alfred', 'busselton', 'ushuaia', 'bredasdorp', 'souillac', 'vila velha', 'tsihombe', 'bredasdorp', 'mar del plata', 'illoqqortoormiut', 'longyearbyen', 'illoqqortoormiut', 'thinadhoo', 'qaanaaq', 'ushuaia', 'ushuaia', 'salalah', 'hamilton', 'richards bay', 'ushuaia', 'saint george', 'longyearbyen', 'longyearbyen', 'qaanaaq', 'macamic', 'ushuaia', 'cayenne', 'qaanaaq', 'punta umbria', 'iralaya', 'east london', 'muisne', 'dikson', 'longyearbyen', 'ushuaia', 'ushuaia', 'qaanaaq', 'east london', 'belushya guba', 'geraldton', 'ushuaia', 'qaanaaq', 'touros', 'bredasdorp', 'ushuaia', 'bakchar', 'barentsburg', 'longyearbyen', 'nicoya', 'rawson', 'richards bay', 'keti bandar', 'port elizabeth', 'leshukonskoye', 'albany', 'boo', 'cape town', 'qaanaaq', 'longyearbyen', 'cape town', 'torbay', 'ushuaia', 'ushuaia', 'dikson', 'barentsburg', 'bredasdorp', 'jumla', 'upernavik', 'nouadhibou', 'dikson', 'hermagor', 'ushuaia', 'ushuaia', 'illoqqortoormiut', 'ushuaia', 'qaanaaq', 'port elizabeth', 'hermanus', 'saint-philippe', 'port alfred', 'ushuaia', 'nanortalik', 'torbay', 'karauzyak', 'mbour', 'upernavik', 'albany', 'bredasdorp', 'dikson', 'ushuaia', 'vila franca do campo', 'dikson', 'hermanus', 'dikson', 'qaanaaq', 'qasigiannguit', 'port alfred', 'ushuaia', 'eufaula', 'ushuaia', 'qaanaaq', 'ushuaia', 'port alfred', 'belushya guba', 'qaanaaq', 'barentsburg', 'hithadhoo', 'hermanus', 'ushuaia', 'dikson', 'albany', 'arraial do cabo', 'sambava', 'ushuaia', 'qaanaaq', 'bredasdorp', 'maceio', 'port alfred', 'longyearbyen', 'barentsburg', 'shushtar', 'hermanus', 'dikson', 'port elizabeth', 'belushya guba', 'cape town', 'port hawkesbury', 'ushuaia', 'barentsburg', 'narsaq', 'bardiyah', 'saint-pierre', 'hermanus', 'vagur', 'bredasdorp', 'port blair', 'barentsburg', 'port elizabeth', 'saint-denis', 'upernavik', 'onega', 'illoqqortoormiut', 'blagoyevo', 'barentsburg', 'qaanaaq', 'umzimvubu', 'qaanaaq', 'ushuaia', 'upernavik', 'port alfred', 'bredasdorp', 'illoqqortoormiut', 'belushya guba', 'xai-xai', 'ushuaia', 'barentsburg', 'paramirim', 'ushuaia', 'sawakin', 'dikson', 'illoqqortoormiut', 'bredasdorp', 'qaanaaq', 'arlit', 'port elizabeth', 'kabare', 'longyearbyen', 'codrington', 'dikson', 'qaanaaq', 'upernavik', 'bredasdorp', 'ushuaia', 'dikson', 'quatre cocos', 'busselton', 'belmonte', 'longyearbyen', 'victoria', 'bredasdorp', 'bredasdorp', 'port alfred', 'bredasdorp', 'ushuaia', 'dinard', 'ushuaia', 'longyearbyen', 'longyearbyen', 'bredasdorp', 'albany', 'belushya guba', 'qaanaaq', 'ushuaia', 'ushuaia', 'aden', 'ushuaia', 'saint-philippe', 'belushya guba', 'rocha', 'ushuaia', 'dikson', 'kangaatsiaq', 'houma', 'saint-philippe', 'barentsburg', 'seoni', 'qaanaaq', 'sipe sipe', 'bredasdorp', 'dikson', 'port elizabeth', 'tasiilaq', 'sao felix do xingu', 'illoqqortoormiut', 'bolungarvik', 'bredasdorp', 'sao sebastiao', 'longyearbyen', 'dikson', 'saldanha', 'ushuaia', 'ushuaia', 'monchegorsk', 'port alfred', 'ushuaia', 'beloha', 'dikson', 'upernavik', 'benedita', 'taolanaro', 'longyearbyen', 'abu samrah', 'port elizabeth', 'hermanus', 'port alfred', 'conceicao do araguaia', 'port alfred', 'port alfred', 'dealu', 'cape town', 'siderno', 'port alfred', 'lamu', 'barentsburg', 'aleksandrov gay', 'port alfred', 'ushuaia', 'barentsburg', 'turukhansk', 'belushya guba', 'belushya guba', 'buhusi', 'marzuq', 'muscat', 'bredasdorp', 'venado tuerto']\n"
     ]
    }
   ],
   "source": [
    "# Blank column for holiding the city name\n",
    "cities = []\n",
    "\n",
    "#row_counter = 0\n",
    "for index, row in lat_and_long.iterrows():\n",
    "    city = citipy.nearest_city(index, row[\"Longitude\"])\n",
    "    city_list = city.city_name\n",
    "    cities.append(city_list)\n",
    "#print(len(city_list))\n",
    "print(cities)\n",
    "#len(cities)\n",
    "#cities = pd.Series(cities)"
   ]
  },
  {
   "cell_type": "code",
   "execution_count": 10,
   "metadata": {},
   "outputs": [
    {
     "name": "stderr",
     "output_type": "stream",
     "text": [
      "C:\\Users\\yod\\Anaconda3\\lib\\site-packages\\pandas\\core\\indexes\\api.py:77: RuntimeWarning: '<' not supported between instances of 'str' and 'int', sort order is undefined for incomparable objects\n",
      "  result = result.union(other)\n"
     ]
    },
    {
     "data": {
      "text/html": [
       "<div>\n",
       "<style>\n",
       "    .dataframe thead tr:only-child th {\n",
       "        text-align: right;\n",
       "    }\n",
       "\n",
       "    .dataframe thead th {\n",
       "        text-align: left;\n",
       "    }\n",
       "\n",
       "    .dataframe tbody tr th {\n",
       "        vertical-align: top;\n",
       "    }\n",
       "</style>\n",
       "<table border=\"1\" class=\"dataframe\">\n",
       "  <thead>\n",
       "    <tr style=\"text-align: right;\">\n",
       "      <th></th>\n",
       "      <th>Longitude</th>\n",
       "      <th>City</th>\n",
       "      <th>Temperature</th>\n",
       "      <th>Cloudiness</th>\n",
       "      <th>Windspeed</th>\n",
       "      <th>0</th>\n",
       "    </tr>\n",
       "  </thead>\n",
       "  <tbody>\n",
       "    <tr>\n",
       "      <th>0</th>\n",
       "      <td>55.374827</td>\n",
       "      <td></td>\n",
       "      <td></td>\n",
       "      <td></td>\n",
       "      <td></td>\n",
       "      <td>NaN</td>\n",
       "    </tr>\n",
       "    <tr>\n",
       "      <th>1</th>\n",
       "      <td>70.637832</td>\n",
       "      <td></td>\n",
       "      <td></td>\n",
       "      <td></td>\n",
       "      <td></td>\n",
       "      <td>NaN</td>\n",
       "    </tr>\n",
       "    <tr>\n",
       "      <th>2</th>\n",
       "      <td>-24.192696</td>\n",
       "      <td></td>\n",
       "      <td></td>\n",
       "      <td></td>\n",
       "      <td></td>\n",
       "      <td>NaN</td>\n",
       "    </tr>\n",
       "    <tr>\n",
       "      <th>3</th>\n",
       "      <td>-11.396945</td>\n",
       "      <td></td>\n",
       "      <td></td>\n",
       "      <td></td>\n",
       "      <td></td>\n",
       "      <td>NaN</td>\n",
       "    </tr>\n",
       "    <tr>\n",
       "      <th>4</th>\n",
       "      <td>-42.749834</td>\n",
       "      <td></td>\n",
       "      <td></td>\n",
       "      <td></td>\n",
       "      <td></td>\n",
       "      <td>NaN</td>\n",
       "    </tr>\n",
       "  </tbody>\n",
       "</table>\n",
       "</div>"
      ],
      "text/plain": [
       "   Longitude City Temperature Cloudiness Windspeed    0\n",
       "0  55.374827                                        NaN\n",
       "1  70.637832                                        NaN\n",
       "2 -24.192696                                        NaN\n",
       "3 -11.396945                                        NaN\n",
       "4 -42.749834                                        NaN"
      ]
     },
     "execution_count": 10,
     "metadata": {},
     "output_type": "execute_result"
    }
   ],
   "source": [
    "new_lat_and_long = lat_and_long.append(cities, ignore_index=True)\n",
    "new_lat_and_long.head()"
   ]
  },
  {
   "cell_type": "code",
   "execution_count": null,
   "metadata": {
    "collapsed": true
   },
   "outputs": [],
   "source": [
    "# Randomly select **at least** 500 unique (non-repeat) cities based on latitude and longitude.\n",
    "# Perform a weather check on each of the cities using a series of successive API calls. \n",
    "# Include a print log of each city as it's being processed with the city number, city name, and requested URL.\n",
    "# Save both a CSV of all data retrieved and png images for each scatter plot."
   ]
  },
  {
   "cell_type": "code",
   "execution_count": null,
   "metadata": {
    "collapsed": true
   },
   "outputs": [],
   "source": [
    "# Create settings dictionary \n",
    "#settings = {\"units\": \"imperial\", \"APPID\": api_key}"
   ]
  },
  {
   "cell_type": "code",
   "execution_count": null,
   "metadata": {
    "collapsed": true
   },
   "outputs": [],
   "source": [
    "#Your objective is to build a series of scatter plots to showcase the following relationships:\n",
    "\n",
    "#* Temperature (F) vs. Latitude\n",
    "#* Humidity (%) vs. Latitude\n",
    "#* Cloudiness (%) vs. Latitude\n",
    "#* Wind Speed (mph) vs. Latitude"
   ]
  },
  {
   "cell_type": "code",
   "execution_count": null,
   "metadata": {
    "collapsed": true
   },
   "outputs": [],
   "source": [
    "# Build a scatter plot for each data type\n",
    "# Example from other activity\n",
    "#plt.scatter(census_data_complete[\"Bank Count\"].astype(int),\n",
    "            #census_data_complete[\"Unemployment Rate\"],\n",
    "            #edgecolor=\"black\", linewidths=1, marker=\"o\",\n",
    "            #alpha=0.8, label=\"Zip Codes\")\n",
    "\n",
    "# Label the graph and set axis limits\n",
    "#plt.title(\"Unemployment Rate vs. Bank Count by Zip Code\")\n",
    "#plt.ylabel(\"Unemployment Rate (%)\")\n",
    "#plt.xlabel(\"Bank Count\")\n",
    "#plt.grid(True)\n",
    "#plt.xlim([-2.5, 202])\n",
    "#plt.ylim([-2.5, 40])\n",
    "\n",
    "# Save the figure\n",
    "#plt.savefig(\"UnemploymentRate_BankCount.png\")\n",
    "\n",
    "# Show plot\n",
    "#plt.show()"
   ]
  },
  {
   "cell_type": "code",
   "execution_count": null,
   "metadata": {
    "collapsed": true
   },
   "outputs": [],
   "source": []
  },
  {
   "cell_type": "code",
   "execution_count": null,
   "metadata": {
    "collapsed": true
   },
   "outputs": [],
   "source": []
  },
  {
   "cell_type": "code",
   "execution_count": null,
   "metadata": {
    "collapsed": true
   },
   "outputs": [],
   "source": []
  }
 ],
 "metadata": {
  "kernelspec": {
   "display_name": "Python 3",
   "language": "python",
   "name": "python3"
  },
  "language_info": {
   "codemirror_mode": {
    "name": "ipython",
    "version": 3
   },
   "file_extension": ".py",
   "mimetype": "text/x-python",
   "name": "python",
   "nbconvert_exporter": "python",
   "pygments_lexer": "ipython3",
   "version": "3.6.3"
  }
 },
 "nbformat": 4,
 "nbformat_minor": 2
}
