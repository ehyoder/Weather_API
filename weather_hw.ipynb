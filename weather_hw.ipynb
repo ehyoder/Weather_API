{
 "cells": [
  {
   "cell_type": "code",
   "execution_count": 1,
   "metadata": {
    "collapsed": true
   },
   "outputs": [],
   "source": [
    "# Dependencies and config file\n",
    "import csv\n",
    "import matplotlib.pyplot as plt\n",
    "import requests\n",
    "import pandas as pd\n",
    "from config import api_key\n",
    "import openweathermapy as owm\n",
    "from citipy import citipy\n",
    "from random import randint\n",
    "import numpy as np"
   ]
  },
  {
   "cell_type": "code",
   "execution_count": 2,
   "metadata": {},
   "outputs": [],
   "source": [
    "latitude_list = []\n",
    "for x in range(500):\n",
    "    # Randomly select 500 unique latitudes\n",
    "    latitude_list.append(np.random.uniform(low=-180.0, high=180, size=None))\n",
    "    #print(latitude_list)\n",
    "    # this works but it is a very long list \n",
    "latitude_list_series = pd.Series(latitude_list)\n",
    "# Then add the values to the DataFrame:\n",
    "#city_df['new_col'] = latitude_list_series.values"
   ]
  },
  {
   "cell_type": "code",
   "execution_count": 3,
   "metadata": {
    "collapsed": true
   },
   "outputs": [],
   "source": [
    "longitude_list = []\n",
    "for x in range(500):\n",
    "    # Randomly select 500 unique longitudes\n",
    "    longitude_list.append(np.random.uniform(low=-90, high = 90))\n",
    "    #print(longitude)\n",
    "\n",
    "# Convert list to series\n",
    "longitude_list_series = pd.Series(longitude_list)"
   ]
  },
  {
   "cell_type": "code",
   "execution_count": 4,
   "metadata": {},
   "outputs": [
    {
     "data": {
      "text/html": [
       "<div>\n",
       "<style>\n",
       "    .dataframe thead tr:only-child th {\n",
       "        text-align: right;\n",
       "    }\n",
       "\n",
       "    .dataframe thead th {\n",
       "        text-align: left;\n",
       "    }\n",
       "\n",
       "    .dataframe tbody tr th {\n",
       "        vertical-align: top;\n",
       "    }\n",
       "</style>\n",
       "<table border=\"1\" class=\"dataframe\">\n",
       "  <thead>\n",
       "    <tr style=\"text-align: right;\">\n",
       "      <th></th>\n",
       "      <th>1</th>\n",
       "    </tr>\n",
       "    <tr>\n",
       "      <th>0</th>\n",
       "      <th></th>\n",
       "    </tr>\n",
       "  </thead>\n",
       "  <tbody>\n",
       "    <tr>\n",
       "      <th>17.935375</th>\n",
       "      <td>38.533951</td>\n",
       "    </tr>\n",
       "    <tr>\n",
       "      <th>-158.364384</th>\n",
       "      <td>-37.356530</td>\n",
       "    </tr>\n",
       "    <tr>\n",
       "      <th>129.561150</th>\n",
       "      <td>-23.936578</td>\n",
       "    </tr>\n",
       "    <tr>\n",
       "      <th>125.399645</th>\n",
       "      <td>60.106245</td>\n",
       "    </tr>\n",
       "    <tr>\n",
       "      <th>-162.970411</th>\n",
       "      <td>6.728342</td>\n",
       "    </tr>\n",
       "    <tr>\n",
       "      <th>-98.818828</th>\n",
       "      <td>-19.241323</td>\n",
       "    </tr>\n",
       "    <tr>\n",
       "      <th>88.221885</th>\n",
       "      <td>-42.272819</td>\n",
       "    </tr>\n",
       "    <tr>\n",
       "      <th>-99.627588</th>\n",
       "      <td>45.769641</td>\n",
       "    </tr>\n",
       "    <tr>\n",
       "      <th>8.597225</th>\n",
       "      <td>71.375103</td>\n",
       "    </tr>\n",
       "    <tr>\n",
       "      <th>-83.631948</th>\n",
       "      <td>-54.187881</td>\n",
       "    </tr>\n",
       "  </tbody>\n",
       "</table>\n",
       "</div>"
      ],
      "text/plain": [
       "                     1\n",
       "0                     \n",
       " 17.935375   38.533951\n",
       "-158.364384 -37.356530\n",
       " 129.561150 -23.936578\n",
       " 125.399645  60.106245\n",
       "-162.970411   6.728342\n",
       "-98.818828  -19.241323\n",
       " 88.221885  -42.272819\n",
       "-99.627588   45.769641\n",
       " 8.597225    71.375103\n",
       "-83.631948  -54.187881"
      ]
     },
     "execution_count": 4,
     "metadata": {},
     "output_type": "execute_result"
    }
   ],
   "source": [
    "lat_and_long = pd.concat([latitude_list_series, longitude_list_series], axis=1)\n",
    "#lat_and_long.head(10)\n",
    "lat_and_long = lat_and_long.set_index(0)\n",
    "lat_and_long.head(10)"
   ]
  },
  {
   "cell_type": "code",
   "execution_count": 19,
   "metadata": {},
   "outputs": [
    {
     "name": "stdout",
     "output_type": "stream",
     "text": [
      "['tawkar', 'ushuaia', 'illoqqortoormiut', 'belushya guba', 'bredasdorp', 'ushuaia', 'upernavik', 'port alfred', 'kavaratti', 'ushuaia', 'longyearbyen', 'luanda', 'saint george', 'ushuaia', 'ushuaia', 'moa', 'ushuaia', 'quelimane', 'port alfred', 'port alfred', 'ushuaia', 'qaanaaq', 'mahebourg', 'illoqqortoormiut', 'georgetown', 'jamestown', 'ushuaia', 'thompson', 'joshimath', 'bredasdorp', 'barentsburg', 'illoqqortoormiut', 'kaabong', 'qaanaaq', 'albany', 'ushuaia', 'ushuaia', 'aswan', 'qaanaaq', 'mudyuga', 'ushuaia', 'sioux lookout', 'ushuaia', 'narsaq', 'ushuaia', 'hermanus', 'narsaq', 'ushuaia', 'hermanus', 'dikson', 'vostochnyy', 'ushuaia', 'mar del plata', 'dikson', 'port alfred', 'attawapiskat', 'ushuaia', 'nizhnedevitsk', 'arraial do cabo', 'vryburg', 'longyearbyen', 'dikson', 'longyearbyen', 'barentsburg', 'port elizabeth', 'abonnema', 'mahebourg', 'ushuaia', 'busselton', 'longyearbyen', 'ushuaia', 'port elizabeth', 'tumannyy', 'ushuaia', 'busselton', 'qaanaaq', 'clyde river', 'maloshuyka', 'bredasdorp', 'albany', 'barentsburg', 'ushuaia', 'busselton', 'longyearbyen', 'port alfred', 'barentsburg', 'port alfred', 'ushuaia', 'kruisfontein', 'saint-augustin', 'barentsburg', 'barentsburg', 'bandarbeyla', 'upernavik', 'albany', 'ushuaia', 'port elizabeth', 'san andres', 'narsaq', 'havre-saint-pierre', 'busselton', 'arlit', 'grand gaube', 'turka', 'qaanaaq', 'jamestown', 'mahebourg', 'bredasdorp', 'ushuaia', 'qaanaaq', 'ushuaia', 'ushuaia', 'codrington', 'qaanaaq', 'inza', 'uribia', 'belushya guba', 'karaul', 'balkanabat', 'chapais', 'barentsburg', 'barentsburg', 'ferkessedougou', 'busselton', 'ushuaia', 'ushuaia', 'albany', 'pori', 'ushuaia', 'chuy', 'souillac', 'barentsburg', 'ushuaia', 'barentsburg', 'jaguarari', 'qaanaaq', 'belushya guba', 'saint george', 'ushuaia', 'hermanus', 'ushuaia', 'ushuaia', 'ushuaia', 'hermanus', 'llanes', 'narsaq', 'bom jardim', 'dianopolis', 'upernavik', 'qaanaaq', 'qaanaaq', 'longyearbyen', 'bargal', 'arraial do cabo', 'medea', 'illoqqortoormiut', 'hermanus', 'belushya guba', 'adrar', 'dikson', 'vardo', 'torbay', 'ushuaia', 'georgetown', 'qaanaaq', 'ushuaia', 'ushuaia', 'dikson', 'lagoa', 'port elizabeth', 'illoqqortoormiut', 'qaanaaq', 'illoqqortoormiut', 'taolanaro', 'hithadhoo', 'dikson', 'barentsburg', 'qaanaaq', 'burica', 'ushuaia', 'ribeira grande', 'narsaq', 'bredasdorp', 'bredasdorp', 'illoqqortoormiut', 'methoni', 'dikson', 'qaanaaq', 'barentsburg', 'narsaq', 'araouane', 'dikson', 'tiznit', 'ushuaia', 'axim', 'hermanus', 'qaanaaq', 'saint george', 'saint-philippe', 'barentsburg', 'barentsburg', 'ushuaia', 'dikson', 'ushuaia', 'sorland', 'port alfred', 'taolanaro', 'port elizabeth', 'tombouctou', 'barentsburg', 'krasnyy luch', 'upernavik', 'qaanaaq', 'cape town', 'ushuaia', 'belushya guba', 'albany', 'cape town', 'port alfred', 'belushya guba', 'jamestown', 'bredasdorp', 'qaanaaq', 'rocha', 'port alfred', 'albany', 'quatre cocos', 'ushuaia', 'vardo', 'barentsburg', 'illoqqortoormiut', 'qaanaaq', 'cidreira', 'dikson', 'arraial do cabo', 'ushuaia', 'longyearbyen', 'barentsburg', 'longyearbyen', 'cape town', 'chuy', 'upernavik', 'kuytun', 'bredasdorp', 'dikson', 'east london', 'aragats', 'cape town', 'hermanus', 'longyearbyen', 'bredasdorp', 'albany', 'bugene', 'busselton', 'georgetown', 'hermanus', 'bredasdorp', 'jamestown', 'ushuaia', 'ushuaia', 'hermanus', 'terra santa', 'east london', 'ushuaia', 'jamestown', 'illoqqortoormiut', 'ushuaia', 'blagoyevo', 'saldanha', 'castro', 'barentsburg', 'lasa', 'port elizabeth', 'ushuaia', 'hermanus', 'lorena', 'belushya guba', 'chongwe', 'port alfred', 'longyearbyen', 'illoqqortoormiut', 'ushuaia', 'brae', 'albany', 'ushuaia', 'qaanaaq', 'albany', 'yar-sale', 'ushuaia', 'upernavik', 'virginia beach', 'piracuruca', 'mar del plata', 'longyearbyen', 'louisbourg', 'hermanus', 'bredasdorp', 'spremberg', 'ribeira grande', 'upernavik', 'longyearbyen', 'bredasdorp', 'port alfred', 'tumannyy', 'severnoye', 'ushuaia', 'bambous virieux', 'port alfred', 'san martin', 'longyearbyen', 'qaanaaq', 'ferry pass', 'hermanus', 'illoqqortoormiut', 'hermanus', 'olafsvik', 'ushuaia', 'arraial do cabo', 'illoqqortoormiut', 'rabo de peixe', 'illoqqortoormiut', 'kruisfontein', 'vardo', 'illoqqortoormiut', 'murgab', 'port alfred', 'barentsburg', 'cape town', 'bredasdorp', 'belushya guba', 'shakawe', 'qaanaaq', 'jamestown', 'belushya guba', 'takoradi', 'bredasdorp', 'longyearbyen', 'ushuaia', 'barentsburg', 'belushya guba', 'bredasdorp', 'havoysund', 'richards bay', 'port alfred', 'surgut', 'upington', 'ullapool', 'dikson', 'port alfred', 'qaanaaq', 'encruzilhada do sul', 'longyearbyen', 'longyearbyen', 'tumannyy', 'qaanaaq', 'port alfred', 'albany', 'belushya guba', 'upernavik', 'ushuaia', 'barentsburg', 'ushuaia', 'albany', 'belushya guba', 'sao filipe', 'illoqqortoormiut', 'vallenar', 'mutum', 'macae', 'sidi ali', 'arraial do cabo', 'vardo', 'qaanaaq', 'qaanaaq', 'bredasdorp', 'belushya guba', 'havelock', 'sabha', 'ushuaia', 'yar-sale', 'dikson', 'albany', 'ushuaia', 'ushuaia', 'riviere-au-renard', 'ushuaia', 'ushuaia', 'mahebourg', 'bredasdorp', 'coquimbo', 'port elizabeth', 'bredasdorp', 'dikson', 'qaanaaq', 'narsaq', 'port alfred', 'dikson', 'ushuaia', 'bredasdorp', 'taolanaro', 'jamestown', 'georgetown', 'qaanaaq', 'ushuaia', 'port elizabeth', 'ushuaia', 'ushuaia', 'dikson', 'tessalit', 'hermanus', 'ushuaia', 'ushuaia', 'illoqqortoormiut', 'fort-shevchenko', 'brae', 'albany', 'tazovskiy', 'port alfred', 'hithadhoo', 'port elizabeth', 'dikson', 'maiduguri', 'barentsburg', 'diamantino', 'the valley', 'ponta do sol', 'ushuaia', 'bredasdorp', 'albany', 'albany', 'ushuaia', 'punta arenas', 'barentsburg', 'qaanaaq', 'faya', 'ushuaia', 'amalner', 'kavaratti', 'codrington', 'barentsburg', 'waksma', 'dikson', 'upernavik', 'barentsburg', 'marawi', 'warqla', 'vyselki', 'qaanaaq', 'qaanaaq', 'longyearbyen', 'trinidad', 'ushuaia', 'longyearbyen', 'mwense', 'chapais', 'ushuaia', 'barentsburg', 'ushuaia', 'saint george', 'belushya guba', 'barentsburg', 'longyearbyen', 'illoqqortoormiut', 'ushuaia', 'bredasdorp', 'longyearbyen', 'laguna', 'ushuaia', 'tsihombe', 'attawapiskat', 'dikson', 'alakurtti', 'illoqqortoormiut', 'barentsburg', 'barentsburg', 'upernavik', 'jacobabad', 'dikson', 'barentsburg', 'masvingo', 'barentsburg', 'pisco', 'ushuaia', 'qaanaaq', 'busselton', 'albany', 'faya', 'taolanaro', 'busselton', 'kisangani', 'belushya guba', 'ushuaia', 'belushya guba', 'illoqqortoormiut', 'babanusah', 'belushya guba', 'belushya guba', 'illoqqortoormiut', 'san cristobal', 'hithadhoo']\n"
     ]
    }
   ],
   "source": [
    "# Blank column for holiding the city name\n",
    "cities = []\n",
    "\n",
    "#row_counter = 0\n",
    "for index, row in lat_and_long.iterrows():\n",
    "    city = citipy.nearest_city(index, row[1])\n",
    "    city_list = city.city_name\n",
    "    cities.append(city_list)\n",
    "#print(len(city_list))\n",
    "print(cities)"
   ]
  },
  {
   "cell_type": "code",
   "execution_count": 6,
   "metadata": {
    "collapsed": true
   },
   "outputs": [],
   "source": [
    "# empty dataframe is this needed?\n",
    "#d = {'city': [\"\"], 'latitude': [\"\"], 'longitude': [\"\"]}\n",
    "#city_df = pd.DataFrame(data=d, index=[0,1,2,3,4,5,6,500])\n",
    "#city_df.head(25)\n",
    "#city_data = pd.DataFrame(data=None, index=None, columns=None, dtype=None, copy=False)"
   ]
  },
  {
   "cell_type": "code",
   "execution_count": 7,
   "metadata": {
    "collapsed": true
   },
   "outputs": [],
   "source": [
    "# Create settings dictionary \n",
    "#settings = {\"units\": \"imperial\", \"APPID\": api_key}"
   ]
  },
  {
   "cell_type": "code",
   "execution_count": 8,
   "metadata": {
    "collapsed": true
   },
   "outputs": [],
   "source": [
    "# Randomly select **at least** 500 unique (non-repeat) cities based on latitude and longitude.\n",
    "# Perform a weather check on each of the cities using a series of successive API calls. \n",
    "# Include a print log of each city as it's being processed with the city number, city name, and requested URL.\n",
    "# Save both a CSV of all data retrieved and png images for each scatter plot."
   ]
  },
  {
   "cell_type": "code",
   "execution_count": 9,
   "metadata": {
    "collapsed": true
   },
   "outputs": [],
   "source": [
    "#Your objective is to build a series of scatter plots to showcase the following relationships:\n",
    "\n",
    "#* Temperature (F) vs. Latitude\n",
    "#* Humidity (%) vs. Latitude\n",
    "#* Cloudiness (%) vs. Latitude\n",
    "#* Wind Speed (mph) vs. Latitude"
   ]
  },
  {
   "cell_type": "code",
   "execution_count": 10,
   "metadata": {
    "collapsed": true
   },
   "outputs": [],
   "source": [
    "# Build a scatter plot for each data type\n",
    "# Example from other activity\n",
    "#plt.scatter(census_data_complete[\"Bank Count\"].astype(int),\n",
    "            #census_data_complete[\"Unemployment Rate\"],\n",
    "            #edgecolor=\"black\", linewidths=1, marker=\"o\",\n",
    "            #alpha=0.8, label=\"Zip Codes\")\n",
    "\n",
    "# Label the graph and set axis limits\n",
    "#plt.title(\"Unemployment Rate vs. Bank Count by Zip Code\")\n",
    "#plt.ylabel(\"Unemployment Rate (%)\")\n",
    "#plt.xlabel(\"Bank Count\")\n",
    "#plt.grid(True)\n",
    "#plt.xlim([-2.5, 202])\n",
    "#plt.ylim([-2.5, 40])\n",
    "\n",
    "# Save the figure\n",
    "#plt.savefig(\"UnemploymentRate_BankCount.png\")\n",
    "\n",
    "# Show plot\n",
    "#plt.show()"
   ]
  },
  {
   "cell_type": "code",
   "execution_count": null,
   "metadata": {
    "collapsed": true
   },
   "outputs": [],
   "source": []
  },
  {
   "cell_type": "code",
   "execution_count": null,
   "metadata": {
    "collapsed": true
   },
   "outputs": [],
   "source": []
  }
 ],
 "metadata": {
  "kernelspec": {
   "display_name": "Python 3",
   "language": "python",
   "name": "python3"
  },
  "language_info": {
   "codemirror_mode": {
    "name": "ipython",
    "version": 3
   },
   "file_extension": ".py",
   "mimetype": "text/x-python",
   "name": "python",
   "nbconvert_exporter": "python",
   "pygments_lexer": "ipython3",
   "version": "3.6.3"
  }
 },
 "nbformat": 4,
 "nbformat_minor": 2
}
