{
 "cells": [
  {
   "cell_type": "code",
   "execution_count": 1,
   "metadata": {
    "collapsed": true
   },
   "outputs": [],
   "source": [
    "# Dependencies and config file\n",
    "import csv\n",
    "import matplotlib.pyplot as plt\n",
    "import requests\n",
    "import pandas as pd\n",
    "from config import api_key\n",
    "import openweathermapy as owm\n",
    "from citipy import citipy\n",
    "from random import randint\n",
    "import numpy as np"
   ]
  },
  {
   "cell_type": "code",
   "execution_count": 2,
   "metadata": {},
   "outputs": [],
   "source": [
    "latitude_list = []\n",
    "for x in range(500):\n",
    "    # Randomly select 500 unique latitudes\n",
    "    latitude_list.append(np.random.uniform(low=-180.0, high=180, size=None))\n",
    "    #print(latitude_list)\n",
    "    # this works but it is a very long list \n",
    "latitude_list_series = pd.Series(latitude_list)\n",
    "# Then add the values to the DataFrame:\n",
    "#city_df['new_col'] = latitude_list_series.values"
   ]
  },
  {
   "cell_type": "code",
   "execution_count": 3,
   "metadata": {
    "collapsed": true
   },
   "outputs": [],
   "source": [
    "longitude_list = []\n",
    "for x in range(500):\n",
    "    # Randomly select 500 unique longitudes\n",
    "    longitude_list.append(np.random.uniform(low=-90, high = 90))\n",
    "    #print(longitude)\n",
    "\n",
    "# Convert list to series\n",
    "longitude_list_series = pd.Series(longitude_list)"
   ]
  },
  {
   "cell_type": "code",
   "execution_count": 4,
   "metadata": {},
   "outputs": [
    {
     "data": {
      "text/html": [
       "<div>\n",
       "<style>\n",
       "    .dataframe thead tr:only-child th {\n",
       "        text-align: right;\n",
       "    }\n",
       "\n",
       "    .dataframe thead th {\n",
       "        text-align: left;\n",
       "    }\n",
       "\n",
       "    .dataframe tbody tr th {\n",
       "        vertical-align: top;\n",
       "    }\n",
       "</style>\n",
       "<table border=\"1\" class=\"dataframe\">\n",
       "  <thead>\n",
       "    <tr style=\"text-align: right;\">\n",
       "      <th></th>\n",
       "      <th>0</th>\n",
       "      <th>1</th>\n",
       "    </tr>\n",
       "  </thead>\n",
       "  <tbody>\n",
       "    <tr>\n",
       "      <th>0</th>\n",
       "      <td>128.534425</td>\n",
       "      <td>-45.082788</td>\n",
       "    </tr>\n",
       "    <tr>\n",
       "      <th>1</th>\n",
       "      <td>-113.427679</td>\n",
       "      <td>55.943951</td>\n",
       "    </tr>\n",
       "    <tr>\n",
       "      <th>2</th>\n",
       "      <td>-9.955638</td>\n",
       "      <td>-63.294014</td>\n",
       "    </tr>\n",
       "    <tr>\n",
       "      <th>3</th>\n",
       "      <td>50.600546</td>\n",
       "      <td>60.779927</td>\n",
       "    </tr>\n",
       "    <tr>\n",
       "      <th>4</th>\n",
       "      <td>67.686236</td>\n",
       "      <td>-50.167674</td>\n",
       "    </tr>\n",
       "    <tr>\n",
       "      <th>5</th>\n",
       "      <td>63.702201</td>\n",
       "      <td>-43.748950</td>\n",
       "    </tr>\n",
       "    <tr>\n",
       "      <th>6</th>\n",
       "      <td>-15.003530</td>\n",
       "      <td>62.771275</td>\n",
       "    </tr>\n",
       "    <tr>\n",
       "      <th>7</th>\n",
       "      <td>-137.298886</td>\n",
       "      <td>36.647671</td>\n",
       "    </tr>\n",
       "    <tr>\n",
       "      <th>8</th>\n",
       "      <td>-153.152380</td>\n",
       "      <td>56.191949</td>\n",
       "    </tr>\n",
       "    <tr>\n",
       "      <th>9</th>\n",
       "      <td>108.730789</td>\n",
       "      <td>35.054492</td>\n",
       "    </tr>\n",
       "  </tbody>\n",
       "</table>\n",
       "</div>"
      ],
      "text/plain": [
       "            0          1\n",
       "0  128.534425 -45.082788\n",
       "1 -113.427679  55.943951\n",
       "2   -9.955638 -63.294014\n",
       "3   50.600546  60.779927\n",
       "4   67.686236 -50.167674\n",
       "5   63.702201 -43.748950\n",
       "6  -15.003530  62.771275\n",
       "7 -137.298886  36.647671\n",
       "8 -153.152380  56.191949\n",
       "9  108.730789  35.054492"
      ]
     },
     "execution_count": 4,
     "metadata": {},
     "output_type": "execute_result"
    }
   ],
   "source": [
    "lat_and_long = pd.concat([latitude_list_series, longitude_list_series], axis=1)\n",
    "#lat_and_long.head(10)\n",
    "#lat_and_long = lat_and_long.set_index(0)\n",
    "lat_and_long.head(10)"
   ]
  },
  {
   "cell_type": "code",
   "execution_count": 5,
   "metadata": {},
   "outputs": [
    {
     "data": {
      "text/html": [
       "<div>\n",
       "<style>\n",
       "    .dataframe thead tr:only-child th {\n",
       "        text-align: right;\n",
       "    }\n",
       "\n",
       "    .dataframe thead th {\n",
       "        text-align: left;\n",
       "    }\n",
       "\n",
       "    .dataframe tbody tr th {\n",
       "        vertical-align: top;\n",
       "    }\n",
       "</style>\n",
       "<table border=\"1\" class=\"dataframe\">\n",
       "  <thead>\n",
       "    <tr style=\"text-align: right;\">\n",
       "      <th></th>\n",
       "      <th>Latitude</th>\n",
       "      <th>Longitude</th>\n",
       "      <th>City</th>\n",
       "      <th>Temperature</th>\n",
       "      <th>Cloudiness</th>\n",
       "      <th>Windspeed</th>\n",
       "    </tr>\n",
       "  </thead>\n",
       "  <tbody>\n",
       "    <tr>\n",
       "      <th>0</th>\n",
       "      <td>128.534425</td>\n",
       "      <td>-45.082788</td>\n",
       "      <td></td>\n",
       "      <td></td>\n",
       "      <td></td>\n",
       "      <td></td>\n",
       "    </tr>\n",
       "    <tr>\n",
       "      <th>1</th>\n",
       "      <td>-113.427679</td>\n",
       "      <td>55.943951</td>\n",
       "      <td></td>\n",
       "      <td></td>\n",
       "      <td></td>\n",
       "      <td></td>\n",
       "    </tr>\n",
       "    <tr>\n",
       "      <th>2</th>\n",
       "      <td>-9.955638</td>\n",
       "      <td>-63.294014</td>\n",
       "      <td></td>\n",
       "      <td></td>\n",
       "      <td></td>\n",
       "      <td></td>\n",
       "    </tr>\n",
       "    <tr>\n",
       "      <th>3</th>\n",
       "      <td>50.600546</td>\n",
       "      <td>60.779927</td>\n",
       "      <td></td>\n",
       "      <td></td>\n",
       "      <td></td>\n",
       "      <td></td>\n",
       "    </tr>\n",
       "    <tr>\n",
       "      <th>4</th>\n",
       "      <td>67.686236</td>\n",
       "      <td>-50.167674</td>\n",
       "      <td></td>\n",
       "      <td></td>\n",
       "      <td></td>\n",
       "      <td></td>\n",
       "    </tr>\n",
       "  </tbody>\n",
       "</table>\n",
       "</div>"
      ],
      "text/plain": [
       "     Latitude  Longitude City Temperature Cloudiness Windspeed\n",
       "0  128.534425 -45.082788                                      \n",
       "1 -113.427679  55.943951                                      \n",
       "2   -9.955638 -63.294014                                      \n",
       "3   50.600546  60.779927                                      \n",
       "4   67.686236 -50.167674                                      "
      ]
     },
     "execution_count": 5,
     "metadata": {},
     "output_type": "execute_result"
    }
   ],
   "source": [
    "# Create new empty columns and add to existing dataframe \n",
    "lat_and_long[\"City\"] = (\"\")\n",
    "lat_and_long[\"Temperature\"] =(\"\")\n",
    "lat_and_long[\"Cloudiness\"] =(\"\")\n",
    "lat_and_long[\"Windspeed\"] =(\"\")\n",
    "lat_and_long.head(10)\n",
    "# Rename columns\n",
    "lat_and_long = lat_and_long.rename(columns={0: \"Latitude\", 1:\"Longitude\"})\n",
    "lat_and_long.head()"
   ]
  },
  {
   "cell_type": "code",
   "execution_count": 11,
   "metadata": {},
   "outputs": [
    {
     "name": "stdout",
     "output_type": "stream",
     "text": [
      "['narsaq', 'port alfred', 'ariquemes', 'svetlyy', 'qasigiannguit', 'qaqortoq', 'grand gaube', 'port elizabeth', 'port alfred', 'longyearbyen', 'vestmannaeyjar', 'longyearbyen', 'taolanaro', 'longyearbyen', 'ushuaia', 'somerset', 'cape town', 'jamestown', 'illoqqortoormiut', 'barentsburg', 'carnarvon', 'albany', 'port alfred', 'jacobina', 'barentsburg', 'itacare', 'ushuaia', 'alexandria', 'barentsburg', 'monrovia', 'bredasdorp', 'port alfred', 'qaanaaq', 'ushuaia', 'kangly', 'ponta do sol', 'dikson', 'bredasdorp', 'qaanaaq', 'birao', 'bredasdorp', 'karaul', 'dikson', 'illoqqortoormiut', 'barentsburg', 'luena', 'ushuaia', 'welkom', 'longyearbyen', 'port elizabeth', 'katima mulilo', 'hermanus', 'dano', 'longyearbyen', 'sergeyevka', 'nuuk', 'ushuaia', 'ponta do sol', 'port alfred', 'ushuaia', 'luderitz', 'dikson', 'punta arenas', 'dikson', 'dikson', 'marsa matruh', 'ushuaia', 'hermanus', 'qaanaaq', 'dikson', 'longyearbyen', 'saint george', 'barentsburg', 'belushya guba', 'hambantota', 'qaanaaq', 'cayenne', 'barentsburg', 'belushya guba', 'ushuaia', 'belushya guba', 'ushuaia', 'ushuaia', 'longyearbyen', 'albany', 'richards bay', 'qaanaaq', 'upernavik', 'ilulissat', 'ushuaia', 'agropoli', 'port elizabeth', 'grand river south east', 'ushuaia', 'qaanaaq', 'dikson', 'pisco', 'ushuaia', 'aguimes', 'arkhangelsk', 'kruisfontein', 'albany', 'qaanaaq', 'ribeira grande', 'ushuaia', 'belushya guba', 'qaanaaq', 'ushuaia', 'husavik', 'port alfred', 'shache', 'port alfred', 'tarut', 'olafsvik', 'illoqqortoormiut', 'barentsburg', 'qaanaaq', 'bredasdorp', 'ushuaia', 'ischia', 'barentsburg', 'ushuaia', 'ushuaia', 'bilma', 'port elizabeth', 'longyearbyen', 'port alfred', 'barentsburg', 'ushuaia', 'qaanaaq', 'codrington', 'ushuaia', 'taolanaro', 'port elizabeth', 'ushuaia', 'belushya guba', 'mecca', 'illoqqortoormiut', 'longyearbyen', 'hermanus', 'qaanaaq', 'qaanaaq', 'charlestown', 'ushuaia', 'yar-sale', 'tsihombe', 'vestmannaeyjar', 'ushuaia', 'atraulia', 'ushuaia', 'narsaq', 'belushya guba', 'saint-philippe', 'fleury-merogis', 'ushuaia', 'ankazoabo', 'illoqqortoormiut', 'taolanaro', 'puntarenas', 'albany', 'taolanaro', 'orcopampa', 'chute-aux-outardes', 'bredasdorp', 'ribeira grande', 'tasiilaq', 'albany', 'qaanaaq', 'ushuaia', 'astana', 'longyearbyen', 'dikson', 'qaanaaq', 'narsaq', 'bredasdorp', 'ponta do sol', 'ushuaia', 'vestmanna', 'new york', 'longyearbyen', 'qaanaaq', 'rocha', 'qaanaaq', 'qaanaaq', 'marcona', 'prainha', 'atar', 'longyearbyen', 'port elizabeth', 'ushuaia', 'mahadday weyne', 'hermanus', 'jamestown', 'albany', 'marcona', 'lebu', 'codrington', 'ribeira grande', 'port elizabeth', 'saint george', 'cidreira', 'port blair', 'ushuaia', 'saint-philippe', 'upernavik', 'port alfred', 'ushuaia', 'albany', 'belushya guba', 'de panne', 'saint-paul', 'parintins', 'port alfred', 'cidreira', 'ribeira grande', 'kasangulu', 'hermanus', 'hobyo', 'ushuaia', 'port elizabeth', 'bredasdorp', 'souillac', 'dikson', 'ushuaia', 'yanam', 'east london', 'ushuaia', 'bengkulu', 'dikson', 'buqayq', 'ushuaia', 'longyearbyen', 'ushuaia', 'bredasdorp', 'dikson', 'coquimbo', 'barentsburg', 'ostrovnoy', 'bengkulu', 'ushuaia', 'barentsburg', 'hermanus', 'longyearbyen', 'ponta do sol', 'port alfred', 'baymak', 'ushuaia', 'illoqqortoormiut', 'albany', 'oussouye', 'busselton', 'mar del plata', 'ushuaia', 'le vauclin', 'longyearbyen', 'ushuaia', 'qaanaaq', 'thunder bay', 'ushuaia', 'ushuaia', 'viedma', 'narsaq', 'qaanaaq', 'zhezkazgan', 'kruisfontein', 'suffolk', 'tarudant', 'belushya guba', 'ushuaia', 'qaanaaq', 'longyearbyen', 'arraial do cabo', 'salalah', 'port alfred', 'qaanaaq', 'barentsburg', 'port elizabeth', 'cape town', 'longyearbyen', 'iqaluit', 'longyearbyen', 'port alfred', 'qaanaaq', 'attawapiskat', 'mar del plata', 'port elizabeth', 'omboue', 'mar del plata', 'nanortalik', 'dikson', 'dikson', 'jamestown', 'luderitz', 'ushuaia', 'bredasdorp', 'qaanaaq', 'pimentel', 'ushuaia', 'fort-shevchenko', 'bredasdorp', 'east london', 'sena madureira', 'aflu', 'qaanaaq', 'bara', 'qaanaaq', 'port alfred', 'arraial do cabo', 'dikson', 'longyearbyen', 'ushuaia', 'ushuaia', 'ponta do sol', 'hermanus', 'east london', 'barentsburg', 'qaanaaq', 'letterkenny', 'necochea', 'upernavik', 'barentsburg', 'illoqqortoormiut', 'qaanaaq', 'qaanaaq', 'port-gentil', 'kulhudhuffushi', 'bredasdorp', 'longyearbyen', 'louisbourg', 'port elizabeth', 'dikson', 'hamilton', 'albany', 'east london', 'qaanaaq', 'ushuaia', 'longyearbyen', 'qaanaaq', 'oppdal', 'belushya guba', 'peniche', 'ushuaia', 'illoqqortoormiut', 'bredasdorp', 'bredasdorp', 'illoqqortoormiut', 'busselton', 'bredasdorp', 'ushuaia', 'illoqqortoormiut', 'georgetown', 'illoqqortoormiut', 'sao filipe', 'barentsburg', 'cape town', 'ushuaia', 'dikson', 'port alfred', 'richards bay', 'ushuaia', 'bredasdorp', 'hermanus', 'taolanaro', 'qaanaaq', 'longyearbyen', 'souillac', 'belushya guba', 'narsaq', 'sao filipe', 'tsihombe', 'ushuaia', 'jablah', 'narsaq', 'belushya guba', 'georgetown', 'hermanus', 'tabou', 'port alfred', 'bredasdorp', 'atar', 'comodoro rivadavia', 'nguruka', 'mandera', 'longyearbyen', 'ushuaia', 'caravelas', 'albany', 'torbay', 'dikson', 'port alfred', 'longyearbyen', 'upernavik', 'albany', 'illoqqortoormiut', 'jamestown', 'illoqqortoormiut', 'ushuaia', 'narsaq', 'camacha', 'illoqqortoormiut', 'illoqqortoormiut', 'cidreira', 'qaanaaq', 'saint george', 'ushuaia', 'sulmona', 'castro', 'caravelas', 'ushuaia', 'tasiilaq', 'najran', 'ushuaia', 'ushuaia', 'ushuaia', 'barentsburg', 'ushuaia', 'dikson', 'port elizabeth', 'hermanus', 'warqla', 'qaanaaq', 'barentsburg', 'hithadhoo', 'ushuaia', 'kouango', 'qaanaaq', 'longyearbyen', 'bambous virieux', 'pangnirtung', 'kruisfontein', 'staunton', 'busselton', 'belushya guba', 'chernaya kholunitsa', 'belushya guba', 'qaanaaq', 'husavik', 'sinnamary', 'port elizabeth', 'hithadhoo', 'bulawayo', 'qaanaaq', 'belushya guba', 'ponta do sol', 'ushuaia', 'port elizabeth', 'jamestown', 'barentsburg', 'hermanus', 'cayenne', 'belushya guba', 'ushuaia', 'qaanaaq', 'bengkulu', 'nuuk', 'lexington park', 'qaanaaq', 'qaanaaq', 'ushuaia', 'port alfred', 'klaksvik', 'ushuaia', 'northview', 'longyearbyen', 'ushuaia', 'bredasdorp', 'bredasdorp', 'ushuaia', 'hermanus', 'ushuaia', 'albany', 'belushya guba', 'bredasdorp', 'narsaq', 'odweyne', 'black river', 'lavumisa', 'sao felix do xingu', 'longlac', 'ushuaia', 'barentsburg', 'busselton', 'hamilton', 'mahebourg', 'adre', 'punta arenas', 'longyearbyen', 'longyearbyen', 'hermanus', 'albany', 'ushuaia', 'belushya guba', 'tasiilaq', 'illoqqortoormiut', 'vardo', 'den helder', 'bubaque', 'gat', 'qaanaaq', 'ushuaia']\n"
     ]
    }
   ],
   "source": [
    "# Blank column for holiding the city name\n",
    "cities = []\n",
    "\n",
    "#row_counter = 0\n",
    "for index, row in lat_and_long.iterrows():\n",
    "    x = row[\"Latitude\"]\n",
    "    y = row[\"Longitude\"]\n",
    "    city = citipy.nearest_city(x,y)\n",
    "    city_list = city.city_name\n",
    "    cities.append(city_list)\n",
    "#print(len(city_list))\n",
    "print(cities)\n",
    "#len(cities)\n",
    "#cities = pd.Series(cities)"
   ]
  },
  {
   "cell_type": "code",
   "execution_count": null,
   "metadata": {},
   "outputs": [],
   "source": [
    "new_lat_and_long = lat_and_long.append(cities, ignore_index=True)\n",
    "new_lat_and_long.head()"
   ]
  },
  {
   "cell_type": "code",
   "execution_count": null,
   "metadata": {
    "collapsed": true
   },
   "outputs": [],
   "source": [
    "# Randomly select **at least** 500 unique (non-repeat) cities based on latitude and longitude.\n",
    "# Perform a weather check on each of the cities using a series of successive API calls. \n",
    "# Include a print log of each city as it's being processed with the city number, city name, and requested URL.\n",
    "# Save both a CSV of all data retrieved and png images for each scatter plot."
   ]
  },
  {
   "cell_type": "code",
   "execution_count": null,
   "metadata": {
    "collapsed": true
   },
   "outputs": [],
   "source": [
    "# Create settings dictionary \n",
    "#settings = {\"units\": \"imperial\", \"APPID\": api_key}"
   ]
  },
  {
   "cell_type": "code",
   "execution_count": null,
   "metadata": {
    "collapsed": true
   },
   "outputs": [],
   "source": [
    "#Your objective is to build a series of scatter plots to showcase the following relationships:\n",
    "\n",
    "#* Temperature (F) vs. Latitude\n",
    "#* Humidity (%) vs. Latitude\n",
    "#* Cloudiness (%) vs. Latitude\n",
    "#* Wind Speed (mph) vs. Latitude"
   ]
  },
  {
   "cell_type": "code",
   "execution_count": null,
   "metadata": {
    "collapsed": true
   },
   "outputs": [],
   "source": [
    "# Build a scatter plot for each data type\n",
    "# Example from other activity\n",
    "#plt.scatter(census_data_complete[\"Bank Count\"].astype(int),\n",
    "            #census_data_complete[\"Unemployment Rate\"],\n",
    "            #edgecolor=\"black\", linewidths=1, marker=\"o\",\n",
    "            #alpha=0.8, label=\"Zip Codes\")\n",
    "\n",
    "# Label the graph and set axis limits\n",
    "#plt.title(\"Unemployment Rate vs. Bank Count by Zip Code\")\n",
    "#plt.ylabel(\"Unemployment Rate (%)\")\n",
    "#plt.xlabel(\"Bank Count\")\n",
    "#plt.grid(True)\n",
    "#plt.xlim([-2.5, 202])\n",
    "#plt.ylim([-2.5, 40])\n",
    "\n",
    "# Save the figure\n",
    "#plt.savefig(\"UnemploymentRate_BankCount.png\")\n",
    "\n",
    "# Show plot\n",
    "#plt.show()"
   ]
  }
 ],
 "metadata": {
  "kernelspec": {
   "display_name": "Python 3",
   "language": "python",
   "name": "python3"
  },
  "language_info": {
   "codemirror_mode": {
    "name": "ipython",
    "version": 3
   },
   "file_extension": ".py",
   "mimetype": "text/x-python",
   "name": "python",
   "nbconvert_exporter": "python",
   "pygments_lexer": "ipython3",
   "version": "3.6.3"
  }
 },
 "nbformat": 4,
 "nbformat_minor": 2
}
